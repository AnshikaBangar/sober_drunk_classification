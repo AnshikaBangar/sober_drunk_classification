{
 "cells": [
  {
   "cell_type": "markdown",
   "metadata": {},
   "source": [
    "Formatting data to read in pytorch.\n",
    "\n",
    "Since the dataset is small, I will randomly split the data into train, test and validation during run time."
   ]
  },
  {
   "cell_type": "code",
   "execution_count": 1,
   "metadata": {},
   "outputs": [],
   "source": [
    "# imports\n",
    "import random, os, shutil\n",
    "from functools import reduce\n"
   ]
  },
  {
   "cell_type": "code",
   "execution_count": 2,
   "metadata": {},
   "outputs": [],
   "source": [
    "os.chdir('CV_problem_sober_drunk_database/')"
   ]
  },
  {
   "cell_type": "code",
   "execution_count": 3,
   "metadata": {},
   "outputs": [
    {
     "data": {
      "text/plain": [
       "['40_spiliop',\n",
       " '18_dionisis',\n",
       " '09_giorg',\n",
       " '38_christos',\n",
       " '23_vassiliskar',\n",
       " '33_iliasv',\n",
       " '34_alkis',\n",
       " '04_elpis',\n",
       " '39_anna',\n",
       " '06_tris',\n",
       " '28_frag',\n",
       " '32_vicky',\n",
       " '17_kwstas',\n",
       " '21_ilias',\n",
       " '29_lia',\n",
       " '15_konstantinos',\n",
       " '36_krod',\n",
       " '41_kalp',\n",
       " '05_artemis',\n",
       " '25_nausika',\n",
       " '30_patty',\n",
       " '03_vasil',\n",
       " '20_nefeli',\n",
       " '10_konst',\n",
       " '02_giorgos',\n",
       " '35_thanasis',\n",
       " '07_thanos',\n",
       " '14_lampros',\n",
       " '08_tzon',\n",
       " '27_theox',\n",
       " '01_petros',\n",
       " '13_manos',\n",
       " '26_tsag',\n",
       " '12_loukas',\n",
       " '16_nikos',\n",
       " '11_takis',\n",
       " '22_dimitris',\n",
       " '37_vassilisA',\n",
       " '24_rig',\n",
       " '19_pasxalis',\n",
       " '31_antonis']"
      ]
     },
     "execution_count": 3,
     "metadata": {},
     "output_type": "execute_result"
    }
   ],
   "source": [
    "folders = [f for f in os.listdir(os.getcwd()) if os.path.isdir(f)]\n",
    "folders"
   ]
  },
  {
   "cell_type": "code",
   "execution_count": 4,
   "metadata": {},
   "outputs": [
    {
     "name": "stdout",
     "output_type": "stream",
     "text": [
      "\u001b[0m\u001b[01;34m01_petros\u001b[0m/   \u001b[01;34m12_loukas\u001b[0m/        \u001b[01;34m23_vassiliskar\u001b[0m/  \u001b[01;34m34_alkis\u001b[0m/\r\n",
      "\u001b[01;34m02_giorgos\u001b[0m/  \u001b[01;34m13_manos\u001b[0m/         \u001b[01;34m24_rig\u001b[0m/          \u001b[01;34m35_thanasis\u001b[0m/\r\n",
      "\u001b[01;34m03_vasil\u001b[0m/    \u001b[01;34m14_lampros\u001b[0m/       \u001b[01;34m25_nausika\u001b[0m/      \u001b[01;34m36_krod\u001b[0m/\r\n",
      "\u001b[01;34m04_elpis\u001b[0m/    \u001b[01;34m15_konstantinos\u001b[0m/  \u001b[01;34m26_tsag\u001b[0m/         \u001b[01;34m37_vassilisA\u001b[0m/\r\n",
      "\u001b[01;34m05_artemis\u001b[0m/  \u001b[01;34m16_nikos\u001b[0m/         \u001b[01;34m27_theox\u001b[0m/        \u001b[01;34m38_christos\u001b[0m/\r\n",
      "\u001b[01;34m06_tris\u001b[0m/     \u001b[01;34m17_kwstas\u001b[0m/        \u001b[01;34m28_frag\u001b[0m/         \u001b[01;34m39_anna\u001b[0m/\r\n",
      "\u001b[01;34m07_thanos\u001b[0m/   \u001b[01;34m18_dionisis\u001b[0m/      \u001b[01;34m29_lia\u001b[0m/          \u001b[01;34m40_spiliop\u001b[0m/\r\n",
      "\u001b[01;34m08_tzon\u001b[0m/     \u001b[01;34m19_pasxalis\u001b[0m/      \u001b[01;34m30_patty\u001b[0m/        \u001b[01;34m41_kalp\u001b[0m/\r\n",
      "\u001b[01;34m09_giorg\u001b[0m/    \u001b[01;34m20_nefeli\u001b[0m/        \u001b[01;34m31_antonis\u001b[0m/      _DS_Store\r\n",
      "\u001b[01;34m10_konst\u001b[0m/    \u001b[01;34m21_ilias\u001b[0m/         \u001b[01;34m32_vicky\u001b[0m/        readme.docx\r\n",
      "\u001b[01;34m11_takis\u001b[0m/    \u001b[01;34m22_dimitris\u001b[0m/      \u001b[01;34m33_iliasv\u001b[0m/       sample_data_read.ipynb\r\n"
     ]
    }
   ],
   "source": [
    "ls"
   ]
  },
  {
   "cell_type": "code",
   "execution_count": 5,
   "metadata": {},
   "outputs": [
    {
     "ename": "SyntaxError",
     "evalue": "invalid syntax (<ipython-input-5-835e57d401eb>, line 18)",
     "output_type": "error",
     "traceback": [
      "\u001b[0;36m  File \u001b[0;32m\"<ipython-input-5-835e57d401eb>\"\u001b[0;36m, line \u001b[0;32m18\u001b[0m\n\u001b[0;31m    if(img_charac[3]=='f')\u001b[0m\n\u001b[0m                          ^\u001b[0m\n\u001b[0;31mSyntaxError\u001b[0m\u001b[0;31m:\u001b[0m invalid syntax\n"
     ]
    }
   ],
   "source": [
    "curr_path = os.getcwd()\n",
    "\n",
    "# looping over folder to transfer images\n",
    "for f in folders:\n",
    "    \n",
    "    image_files = os.listdir(os.path.join(curr_path, f))\n",
    "    \n",
    "    # looping over images to extract just sober and drunk (face_images)\n",
    "    for img in image_files:\n",
    "        img_charac = img.split('_')\n",
    "        \n",
    "        print(img_charac)\n",
    "\n",
    "#       naming convention:-        \n",
    "#       serialnumber_personfirstname_acquisitionsequence_imagecontent_sex_age_weight__alcoholmeter\n",
    "\n",
    "        if(img_charac[2]=='4'):  # drunk(4) & all four category\n",
    "            if(img_charac[3]=='f'):\n",
    "                shutil.move(f+'/'+img , '../mod_database_ml/drunk/face')\n",
    "            elif(img_charac[3]=='e'):\n",
    "                shutil.move(f+'/'+img , '../mod_database_ml/drunk/ear')\n",
    "            elif(img_charac[3]=='h'):\n",
    "                shutil.move(f+'/'+img , '../mod_database_ml/drunk/hand')\n",
    "            elif(img_charac[3]=='r'):\n",
    "                shutil.move(f+'/'+img , '../mod_database_ml/drunk/right') \n",
    "        \n",
    "        elif(img_charac[2]=='1'):# sober(1) & all four category\n",
    "#             os.replace(reduce(os.path.join, [curr_path, f, img]), '../mod_database/sober/')\n",
    "            if(img_charac[3]=='f'):\n",
    "                shutil.move(f+'/'+img , '../mod_database_ml/sober/face')\n",
    "            elif(img_charac[3]=='e'):\n",
    "                shutil.move(f+'/'+img , '../mod_database_ml/sober/ear')\n",
    "            elif(img_charac[3]=='h'):\n",
    "                shutil.move(f+'/'+img , '../mod_database_ml/sober/hand')\n",
    "            elif(img_charac[3]=='r'):\n",
    "                shutil.move(f+'/'+img , '../mod_database_ml/sober/right') \n"
   ]
  }
 ],
 "metadata": {
  "kernelspec": {
   "display_name": "Python 3",
   "language": "python",
   "name": "python3"
  },
  "language_info": {
   "codemirror_mode": {
    "name": "ipython",
    "version": 3
   },
   "file_extension": ".py",
   "mimetype": "text/x-python",
   "name": "python",
   "nbconvert_exporter": "python",
   "pygments_lexer": "ipython3",
   "version": "3.6.8"
  }
 },
 "nbformat": 4,
 "nbformat_minor": 2
}
