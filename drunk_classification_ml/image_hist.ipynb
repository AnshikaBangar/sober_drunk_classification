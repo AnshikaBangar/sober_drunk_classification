{
 "cells": [
  {
   "cell_type": "code",
   "execution_count": 63,
   "metadata": {},
   "outputs": [
    {
     "data": {
      "text/plain": [
       "['33_iliasv',\n",
       " '34_alkis',\n",
       " '04_elpis',\n",
       " '39_anna',\n",
       " '06_tris',\n",
       " '28_frag',\n",
       " '32_vicky',\n",
       " '17_kwstas',\n",
       " '21_ilias',\n",
       " '29_lia',\n",
       " '15_konstantinos',\n",
       " '36_krod',\n",
       " '41_kalp',\n",
       " '05_artemis',\n",
       " '25_nausika',\n",
       " '30_patty',\n",
       " '03_vasil',\n",
       " '20_nefeli',\n",
       " '10_konst',\n",
       " '02_giorgos',\n",
       " '35_thanasis',\n",
       " '07_thanos',\n",
       " '14_lampros',\n",
       " '08_tzon',\n",
       " '27_theox',\n",
       " '01_petros',\n",
       " '13_manos',\n",
       " '26_tsag',\n",
       " '12_loukas',\n",
       " '16_nikos',\n",
       " '11_takis',\n",
       " '22_dimitris',\n",
       " '37_vassilisA',\n",
       " '24_rig',\n",
       " '.ipynb_checkpoints',\n",
       " '19_pasxalis',\n",
       " '31_antonis']"
      ]
     },
     "execution_count": 63,
     "metadata": {},
     "output_type": "execute_result"
    }
   ],
   "source": [
    "import random, os, cv2, numpy as np\n",
    "import matplotlib.pyplot as plt\n",
    "\n",
    "os.chdir('CV_problem_sober_drunk_database/')\n",
    "\n",
    "folders = [f for f in os.listdir(os.getcwd()) if os.path.isdir(f)]\n"
   ]
  },
  {
   "cell_type": "markdown",
   "metadata": {},
   "source": [
    "### Analysis using image histogram"
   ]
  },
  {
   "cell_type": "code",
   "execution_count": 76,
   "metadata": {},
   "outputs": [
    {
     "data": {
      "text/plain": [
       "<Figure size 9216x11520 with 0 Axes>"
      ]
     },
     "metadata": {},
     "output_type": "display_data"
    },
    {
     "name": "stdout",
     "output_type": "stream",
     "text": [
      "High energy pixel: 8692 Low energy pixel: 8972\n",
      "01_petros_4_f_M_20_71.tif\n"
     ]
    },
    {
     "data": {
      "image/png": "[encoded data removed]",
      "text/plain": [
       "<Figure size 432x288 with 1 Axes>"
      ]
     },
     "metadata": {
      "needs_background": "light"
     },
     "output_type": "display_data"
    },
    {
     "name": "stdout",
     "output_type": "stream",
     "text": [
      "High energy pixel: 9267 Low energy pixel: 8051\n",
      "01_petros_1_f_M_20_71.tif\n"
     ]
    },
    {
     "data": {
      "image/png": "[encoded data removed]",
      "text/plain": [
       "<Figure size 432x288 with 1 Axes>"
      ]
     },
     "metadata": {
      "needs_background": "light"
     },
     "output_type": "display_data"
    }
   ],
   "source": [
    "curr_path = os.getcwd()\n",
    "\n",
    "# looping over folder to transfer images\n",
    "for f in folders[30:]:\n",
    "    \n",
    "    image_files = os.listdir(os.path.join(curr_path, f))\n",
    "    \n",
    "    # initializing figure to plot\n",
    "    fig1 = plt.figure(figsize=(128, 160))\n",
    "    i = 0 #image counter\n",
    "    \n",
    "    # looping over images to extract just sober and drunk (face_images)\n",
    "    for img_name in image_files:\n",
    "        img_charac = img_name.split('_')\n",
    "        \n",
    "        # selecting just the face images\n",
    "        if(img_charac[3] == 'f' and (img_charac[2] == '1' or img_charac[2] == '4')):\n",
    "            \n",
    "            img = cv2.imread(f+'/'+img_name, cv2.IMREAD_UNCHANGED)\n",
    "           \n",
    "            fig1.add_subplot(4,1,i+1)\n",
    "            # image\n",
    "#             plt.imshow(img, cmap='gray')\n",
    "            \n",
    "            # histogram\n",
    "            plt.hist(img.ravel(), 256, [0,256]);\n",
    "            \n",
    "            # clipping values to above 150\n",
    "            more_energy = img.ravel() > 150\n",
    "            less_energy = img.ravel() < 70\n",
    "            print('High energy pixel:', np.count_nonzero(more_energy), 'Low energy pixel:', np.count_nonzero(less_energy))\n",
    "            \n",
    "            print(img_name) # name\n",
    "            \n",
    "            i+=1\n",
    "            \n",
    "        plt.show()\n",
    "    \n",
    "    break #stop at one"
   ]
  },
  {
   "cell_type": "markdown",
   "metadata": {},
   "source": [
    "### One observed characteristic: Sober(_1_) images have more high intensity pixels and drunk(_4_) images has more low intensity pixels"
   ]
  }
 ],
 "metadata": {
  "kernelspec": {
   "display_name": "Python 3",
   "language": "python",
   "name": "python3"
  },
  "language_info": {
   "codemirror_mode": {
    "name": "ipython",
    "version": 3
   },
   "file_extension": ".py",
   "mimetype": "text/x-python",
   "name": "python",
   "nbconvert_exporter": "python",
   "pygments_lexer": "ipython3",
   "version": "3.6.8"
  }
 },
 "nbformat": 4,
 "nbformat_minor": 2
}
