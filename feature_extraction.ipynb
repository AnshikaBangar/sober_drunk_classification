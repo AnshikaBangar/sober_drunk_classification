{
 "cells": [
  {
   "cell_type": "code",
   "execution_count": 8,
   "metadata": {},
   "outputs": [],
   "source": [
    "# dependencies\n",
    "\n",
    "import cv2\n",
    "import numpy as np\n",
    "import pandas as pd\n",
    "import pickle\n",
    "import os\n",
    "import glob"
   ]
  },
  {
   "cell_type": "code",
   "execution_count": 7,
   "metadata": {},
   "outputs": [
    {
     "data": {
      "text/plain": [
       "'/home/nikhil/Desktop/sober_drunk_classification'"
      ]
     },
     "execution_count": 7,
     "metadata": {},
     "output_type": "execute_result"
    }
   ],
   "source": [
    "# current directory\n",
    "os.getcwd()"
   ]
  },
  {
   "cell_type": "code",
   "execution_count": 13,
   "metadata": {},
   "outputs": [
    {
     "name": "stdout",
     "output_type": "stream",
     "text": [
      "['mod_database/sober/28_frag_1_e_M_40_83.tif', 'mod_database/sober/26_tsag_1_r_M_38_88.tif', 'mod_database/sober/06_tris_1_e_F_24_51.tif', 'mod_database/sober/06_tris_1_h_F_24_51.tif', 'mod_database/sober/14_lampros_1_e_M_18_87.tif', 'mod_database/sober/31_antonis_1_h_M_45_76.tif', 'mod_database/sober/17_kwstas_1_f_M_18_63.tif', 'mod_database/sober/41_kalp_1_e_M_62_95.tif', 'mod_database/sober/22_dimitris_1_f_M_28_82.tif', 'mod_database/sober/41_kalp_1_f_M_62_95.tif', 'mod_database/sober/11_takis_1_h_M_20_79.tif', 'mod_database/sober/22_dimitris_1_e_M_28_82.tif', 'mod_database/sober/25_nausika_1_r_F_27_65.tif', 'mod_database/sober/31_antonis_1_r_M_45_76.tif', 'mod_database/sober/34_alkis_1_r_M_52_78.tif', 'mod_database/sober/02_giorgos_1_h_M_30_83.tif', 'mod_database/sober/17_kwstas_1_h_M_18_63.tif', 'mod_database/sober/36_krod_1_r_M_54_90.tif', 'mod_database/sober/18_dionisis_1_r_M_18_80.tif', 'mod_database/sober/38_christos_1_f_M_33_76.tif', 'mod_database/sober/13_manos_1_r_M_18_78.tif', 'mod_database/sober/18_dionisis_1_e_M_18_80.tif', 'mod_database/sober/36_krod_1_e_M_54_90.tif', 'mod_database/sober/33_iliasv_1_e_M_40_100.tif', 'mod_database/sober/21_ilias_1_h_M_27_110.tif', 'mod_database/sober/37_vassilisA_1_h_M_54_90.tif', 'mod_database/sober/30_patty_1_f_F_37_61.tif', 'mod_database/sober/26_tsag_1_f_M_38_88.tif', 'mod_database/sober/28_frag_1_h_M_40_83.tif', 'mod_database/sober/01_petros_1_h_M_20_71.tif', 'mod_database/sober/24_rig_1_r_M_31_72.tif', 'mod_database/sober/19_pasxalis_1_h_M_39_83.tif', 'mod_database/sober/37_vassilisA_1_e_M_54_90.tif', 'mod_database/sober/16_nikos_1_h_M_18_74.tif', 'mod_database/sober/06_tris_1_r_F_24_51.tif', 'mod_database/sober/40_spiliop_1_h_M_43_74.tif', 'mod_database/sober/15_konstantinos_1_h_M_18_70.tif', 'mod_database/sober/40_spiliop_1_e_M_43_74.tif', 'mod_database/sober/15_konstantinos_1_f_M_18_70.tif', 'mod_database/sober/08_tzon_1_h_M_32_80.tif', 'mod_database/sober/32_vicky_1_r_F_34_62.tif', 'mod_database/sober/37_vassilisA_1_f_M_54_90.tif', 'mod_database/sober/02_giorgos_1_r_M_30_83.tif', 'mod_database/sober/19_pasxalis_1_r_M_39_83.tif', 'mod_database/sober/01_petros_1_r_M_20_71.tif', 'mod_database/sober/29_lia_1_e_F_39_65.tif', 'mod_database/sober/35_thanasis_1_h_M_48_81.tif', 'mod_database/sober/12_loukas_1_h_M_20_60.tif', 'mod_database/sober/10_konst_1_f_F_35_54.tif', 'mod_database/sober/27_theox_1_h_M_39_85.tif', 'mod_database/sober/05_artemis_1_h_F_25_59.tif', 'mod_database/sober/19_pasxalis_1_f_M_39_83.tif', 'mod_database/sober/03_vasil_1_e_M_22_95.tif', 'mod_database/sober/22_dimitris_1_h_M_28_82.tif', 'mod_database/sober/04_elpis_1_f_F_24_62.tif', 'mod_database/sober/23_vassiliskar_1_h_M_26_78.tif', 'mod_database/sober/07_thanos_1_e_M_34_98.tif', 'mod_database/sober/02_giorgos_1_f_M_30_83.tif', 'mod_database/sober/23_vassiliskar_1_r_M_26_78.tif', 'mod_database/sober/23_vassiliskar_1_e_M_26_78.tif', 'mod_database/sober/21_ilias_1_r_M_27_110.tif', 'mod_database/sober/13_manos_1_f_M_18_78.tif', 'mod_database/sober/24_rig_1_f_M_31_72.tif', 'mod_database/sober/17_kwstas_1_e_M_18_63.tif', 'mod_database/sober/38_christos_1_e_M_33_76.tif', 'mod_database/sober/05_artemis_1_f_F_25_59.tif', 'mod_database/sober/18_dionisis_1_f_M_18_80.tif', 'mod_database/sober/05_artemis_1_r_F_25_59.tif', 'mod_database/sober/36_krod_1_h_M_54_90.tif', 'mod_database/sober/03_vasil_1_f_M_22_95.tif', 'mod_database/sober/03_vasil_1_r_M_22_95.tif', 'mod_database/sober/35_thanasis_1_f_M_48_81.tif', 'mod_database/sober/41_kalp_1_h_M_62_95.tif', 'mod_database/sober/40_spiliop_1_r_M_43_74.tif', 'mod_database/sober/25_nausika_1_e_F_27_65.tif', 'mod_database/sober/08_tzon_1_r_M_32_80.tif', 'mod_database/sober/12_loukas_1_f_M_20_60.tif', 'mod_database/sober/20_nefeli_1_h_F_28_48.tif', 'mod_database/sober/07_thanos_1_f_M_34_98.tif', 'mod_database/sober/36_krod_1_f_M_54_90.tif', 'mod_database/sober/09_giorg_1_e_M_23_52.tif', 'mod_database/sober/27_theox_1_r_M_39_85.tif', 'mod_database/sober/25_nausika_1_h_F_27_65.tif', 'mod_database/sober/13_manos_1_e_M_18_78.tif', 'mod_database/sober/04_elpis_1_e_F_24_62.tif', 'mod_database/sober/40_spiliop_1_f_M_43_74.tif', 'mod_database/sober/21_ilias_1_f_M_27_110.tif', 'mod_database/sober/17_kwstas_1_r_M_18_63.tif', 'mod_database/sober/32_vicky_1_e_F_34_62.tif', 'mod_database/sober/39_anna_1_r_F_46_59.tif', 'mod_database/sober/31_antonis_1_f_M_45_76.tif', 'mod_database/sober/02_giorgos_1_e_M_30_83.tif', 'mod_database/sober/24_rig_1_e_M_31_72.tif', 'mod_database/sober/08_tzon_1_e_M_32_80.tif', 'mod_database/sober/14_lampros_1_f_M_18_87.tif', 'mod_database/sober/41_kalp_1_r_M_62_95.tif', 'mod_database/sober/10_konst_1_h_F_35_54.tif', 'mod_database/sober/16_nikos_1_e_M_18_74.tif', 'mod_database/sober/28_frag_1_r_M_40_83.tif', 'mod_database/sober/39_anna_1_h_F_46_59.tif', 'mod_database/sober/38_christos_1_r_M_33_76.tif', 'mod_database/sober/28_frag_1_f_M_40_83.tif', 'mod_database/sober/04_elpis_1_r_F_24_62.tif', 'mod_database/sober/18_dionisis_1_h_M_18_80.tif', 'mod_database/sober/01_petros_1_f_M_20_71.tif', 'mod_database/sober/09_giorg_1__M_23_52.tif', 'mod_database/sober/06_tris_1_f_F_24_51.tif', 'mod_database/sober/09_giorg_1_r_M_23_52.tif', 'mod_database/sober/32_vicky_1_h_F_34_62.tif', 'mod_database/sober/30_patty_1_e_F_37_61.tif', 'mod_database/sober/35_thanasis_1_e_M_48_81.tif', 'mod_database/sober/10_konst_1_e_F_35_54.tif', 'mod_database/sober/19_pasxalis_1_e_M_39_83.tif', 'mod_database/sober/33_iliasv_1_f_M_40_100.tif', 'mod_database/sober/12_loukas_1_r_M_20_60.tif', 'mod_database/sober/10_konst_1_r_F_35_54.tif', 'mod_database/sober/37_vassilisA_1_r_M_54_90.tif', 'mod_database/sober/27_theox_1_f_M_39_85.tif', 'mod_database/sober/08_tzon_1_f_M_32_80.tif', 'mod_database/sober/07_thanos_1_r_M_34_98.tif', 'mod_database/sober/09_giorg_1_h_M_23_52.tif', 'mod_database/sober/16_nikos_1_r_M_18_74.tif', 'mod_database/sober/01_petros_1_e_M_20_71.tif', 'mod_database/sober/22_dimitris_1_r_M_28_82.tif', 'mod_database/sober/20_nefeli_1_f_F_28_48.tif', 'mod_database/sober/29_lia_1_f_F_39_65.tif', 'mod_database/sober/11_takis_1_e_M_20_79.tif', 'mod_database/sober/15_konstantinos_1_e_M_18_70.tif', 'mod_database/sober/15_konstantinos_1_r_M_18_70.tif', 'mod_database/sober/05_artemis_1_e_F_25_59.tif', 'mod_database/sober/27_theox_1_e_M_39_85.tif', 'mod_database/sober/14_lampros_1_r_M_18_87.tif', 'mod_database/sober/04_elpis_1_h_F_24_62.tif', 'mod_database/sober/11_takis_1_r_M_20_79.tif', 'mod_database/sober/39_anna_1_e_F_46_59.tif', 'mod_database/sober/39_anna_1_f_F_46_59.tif', 'mod_database/sober/30_patty_1_r_F_37_61.tif', 'mod_database/sober/34_alkis_1_f_M_52_78.tif', 'mod_database/sober/34_alkis_1_e_M_52_78.tif', 'mod_database/sober/26_tsag_1_e_M_38_88.tif', 'mod_database/sober/33_iliasv_1_h_M_40_100.tif', 'mod_database/sober/16_nikos_1_f_M_18_74.tif', 'mod_database/sober/33_iliasv_1_r_M_40_100.tif', 'mod_database/sober/29_lia_1_r_F_39_65.tif', 'mod_database/sober/20_nefeli_1_e_F_28_48.tif', 'mod_database/sober/26_tsag_1_h_M_38_88.tif', 'mod_database/sober/24_rig_1_h_M_31_72.tif', 'mod_database/sober/23_vassiliskar_1_f_M_26_78.tif', 'mod_database/sober/34_alkis_1_h_M_52_78.tif', 'mod_database/sober/07_thanos_1_h_M_34_98.tif', 'mod_database/sober/31_antonis_1_e_M_45_76.tif', 'mod_database/sober/14_lampros_1_h_M_18_87.tif', 'mod_database/sober/32_vicky_1_f_F_34_62.tif', 'mod_database/sober/38_christos_1_h_M_33_76.tif', 'mod_database/sober/03_vasil_1_h_M_22_95.tif', 'mod_database/sober/35_thanasis_1_r_M_48_81.tif', 'mod_database/sober/29_lia_1_h_F_39_65.tif', 'mod_database/sober/12_loukas_1_e_M_20_60.tif', 'mod_database/sober/11_takis_1_f_M_20_79.tif', 'mod_database/sober/30_patty_1_h_F_37_61.tif', 'mod_database/sober/20_nefeli_1_r_F_28_48.tif', 'mod_database/sober/21_ilias_1_e_M_27_110.tif', 'mod_database/sober/13_manos_1_h_M_18_78.tif', 'mod_database/sober/25_nausika_1_f_F_27_65.tif']\n"
     ]
    }
   ],
   "source": [
    "# reading images\n",
    "\n",
    "data_dir = 'mod_database/'\n",
    "\n",
    "data_cls = ['sober', 'drunk']\n",
    "\n",
    "for cls in data_cls:\n",
    "    name = glob.glob(data_dir+cls+'/*')\n",
    "    print(name)\n",
    "        \n",
    "    break\n",
    "\n"
   ]
  }
 ],
 "metadata": {
  "kernelspec": {
   "display_name": "Python 3",
   "language": "python",
   "name": "python3"
  },
  "language_info": {
   "codemirror_mode": {
    "name": "ipython",
    "version": 3
   },
   "file_extension": ".py",
   "mimetype": "text/x-python",
   "name": "python",
   "nbconvert_exporter": "python",
   "pygments_lexer": "ipython3",
   "version": "3.6.8"
  }
 },
 "nbformat": 4,
 "nbformat_minor": 2
}
